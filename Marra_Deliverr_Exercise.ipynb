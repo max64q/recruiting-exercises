{
 "cells": [
  {
   "cell_type": "code",
   "execution_count": null,
   "metadata": {},
   "outputs": [],
   "source": [
    "#import libraries\n",
    "import numpy as np\n",
    "import pandas as pd\n"
   ]
  },
  {
   "cell_type": "markdown",
   "metadata": {},
   "source": [
    "## Test Cases"
   ]
  },
  {
   "cell_type": "code",
   "execution_count": null,
   "metadata": {},
   "outputs": [],
   "source": [
    "#It is assumed that products that are not present in the order are not present in warehouse inventory,\n",
    "#and vise versa\n",
    "\n",
    "#base test case\n",
    "order1 = { 'apple': 5, 'banana': 5, 'orange': 5 }\n",
    "warehouse1 = [ { 'name': 'owd', 'inventory': { 'apple': 5, 'orange': 10 } },\n",
    "              { 'name': 'dm', 'inventory': { 'banana': 5, 'orange': 10 } } ]\n",
    "\n",
    "#other test case\n",
    "order2 = { 'apple': 5, 'banana': 7, 'orange': 12, 'pear': 5, 'watermelon': 10, 'cherry': 11}\n",
    "warehouse2 = [ { 'name': 'owd', 'inventory': { 'apple': 5, 'orange': 10 } }, \n",
    "              { 'name': 'dm', 'inventory': { 'banana': 5, 'orange': 10 } },\n",
    "              { 'name': 'kls', 'inventory': { 'pear': 5, 'orange': 10, 'watermelon': 15 } },\n",
    "              { 'name': 'rpp', 'inventory': { 'apple': 5, 'cherry': 10 } },\n",
    "              { 'name': 'xmr', 'inventory': { 'banana': 5, 'orange': 10, 'cherry': 13 } },]\n",
    "\n",
    "#test case with split orders\n",
    "order3 = { 'apple': 6, 'banana': 7, 'orange': 12 }\n",
    "warehouse3 = [ { 'name': 'owd', 'inventory': { 'apple': 5, 'banana': 0, 'orange': 10 } },\n",
    "              { 'name': 'dm', 'inventory': { 'apple': 1, 'banana': 5, 'orange': 2 } },\n",
    "              { 'name': 'xb', 'inventory': { 'apple': 1, 'banana': 5, 'orange': 0 } },\n",
    "              { 'name': 'drd', 'inventory': { 'apple':0, 'banana': 5, 'orange': 0 } }]\n",
    "\n",
    "#test case with expensive warehouse having full inventory\n",
    "order4 = { 'apple': 6, 'banana': 7, 'orange': 12 }\n",
    "warehouse4 = [ { 'name': 'owd', 'inventory': { 'apple': 2, 'banana': 0, 'orange': 10 } },\n",
    "              { 'name': 'dm', 'inventory': { 'apple': 3, 'banana': 5, 'orange': 2 } },\n",
    "              { 'name': 'xb', 'inventory': { 'apple': 4, 'banana': 5, 'orange': 0 } },\n",
    "              { 'name': 'drd', 'inventory': { 'apple':6, 'banana': 7, 'orange': 12 } }]\n",
    "\n",
    "#test case with insufficient inventory\n",
    "order5 = { 'apple': 6, 'banana': 7, 'orange': 12 }\n",
    "warehouse5 = [ { 'name': 'owd', 'inventory': { 'apple': 0, 'banana': 0, 'orange': 10 } },\n",
    "              { 'name': 'dm', 'inventory': { 'apple': 1, 'banana': 5, 'orange': 2 } },\n",
    "              { 'name': 'xb', 'inventory': { 'apple': 0, 'banana': 5, 'orange': 0 } },\n",
    "              { 'name': 'drd', 'inventory': { 'apple':3, 'banana': 5, 'orange': 0 } }]\n",
    "\n",
    "#bigger test case\n",
    "order6 = { 'apple': 55, 'banana': 127, 'orange': 120, 'pear': 501, 'watermelon': 67, 'cherry': 110 }\n",
    "warehouse6 = [ { 'name': 'owd', 'inventory': { 'apple': 15, 'banana': 100, 'orange': 10, 'pear': 117, 'watermelon': 1, 'cherry': 52 } },\n",
    "              { 'name': 'jfb', 'inventory': { 'apple': 0, 'banana': 20, 'orange': 10, 'pear': 45, 'watermelon': 4, 'cherry': 33 } },\n",
    "              { 'name': 'lks', 'inventory': { 'apple': 0, 'banana': 2, 'orange': 10, 'pear': 66, 'watermelon': 31, 'cherry': 0 } },\n",
    "              { 'name': 'pds', 'inventory': { 'apple': 12, 'banana': 0, 'orange': 10, 'pear': 70, 'watermelon': 2, 'cherry': 14 } },\n",
    "              { 'name': 'oqq', 'inventory': { 'apple': 0, 'banana': 30, 'orange': 10, 'pear': 12, 'watermelon': 44, 'cherry': 9 } },\n",
    "              { 'name': 'ldo', 'inventory': { 'apple': 30, 'banana': 51, 'orange': 2, 'pear': 24, 'watermelon': 2, 'cherry': 59 } },\n",
    "              { 'name': 'pzj', 'inventory': { 'apple': 21, 'banana': 79, 'orange': 13, 'pear': 223, 'watermelon': 2, 'cherry': 43 } },\n",
    "              { 'name': 'laz', 'inventory': { 'apple': 6, 'banana': 0, 'orange': 10, 'pear': 98, 'watermelon': 15, 'cherry': 10 } },\n",
    "              { 'name': 'orf', 'inventory': { 'apple': 2, 'banana': 0, 'orange': 10, 'pear': 97, 'watermelon': 2, 'cherry': 5 } },\n",
    "              { 'name': 'nhf', 'inventory': { 'apple': 19, 'banana': 0, 'orange': 10, 'pear': 14, 'watermelon': 17, 'cherry': 0 } },\n",
    "              { 'name': 'plk', 'inventory': { 'apple': 9, 'banana': 0, 'orange': 10, 'pear': 212, 'watermelon': 2, 'cherry': 12 } },\n",
    "              { 'name': 'wet', 'inventory': { 'apple': 14, 'banana': 0, 'orange': 10, 'pear': 0, 'watermelon': 10, 'cherry': 0 } },\n",
    "              { 'name': 'pep', 'inventory': { 'apple': 6, 'banana': 0, 'orange': 10, 'pear': 60, 'watermelon': 0, 'cherry': 0 } },\n",
    "              { 'name': 'hfy', 'inventory': { 'apple': 24, 'banana': 0, 'orange': 80, 'pear': 120, 'watermelon': 12, 'cherry': 0 } }]"
   ]
  },
  {
   "cell_type": "code",
   "execution_count": null,
   "metadata": {},
   "outputs": [],
   "source": [
    "#inputs\n",
    "#change order # to desired test case # and run all\n",
    "\n",
    "order = order2\n",
    "warehouses = warehouse2"
   ]
  },
  {
   "cell_type": "markdown",
   "metadata": {},
   "source": [
    "# Converting Warehouse info to dataframe"
   ]
  },
  {
   "cell_type": "code",
   "execution_count": null,
   "metadata": {},
   "outputs": [],
   "source": [
    "df = pd.DataFrame(warehouses)\n",
    "df.head()"
   ]
  },
  {
   "cell_type": "code",
   "execution_count": null,
   "metadata": {},
   "outputs": [],
   "source": [
    "#initialize row counter value at zero\n",
    "x = 0 \n",
    "#loop through each warehouses inventory\n",
    "for inv in df['inventory']:\n",
    "        #loop through inventory items and assign product values \n",
    "        for key in inv:\n",
    "            df.loc[x, key] = inv[key]\n",
    "        x += 1\n",
    "            \n",
    "df"
   ]
  },
  {
   "cell_type": "code",
   "execution_count": null,
   "metadata": {
    "scrolled": false
   },
   "outputs": [],
   "source": [
    "#deleting column of dictionaries and replacing null values with 0\n",
    "del df['inventory']\n",
    "df = df.fillna(0)\n",
    "df['score'] = 0\n",
    "df.head()"
   ]
  },
  {
   "cell_type": "markdown",
   "metadata": {},
   "source": [
    "# Determining Cheapest Shipment"
   ]
  },
  {
   "cell_type": "code",
   "execution_count": null,
   "metadata": {},
   "outputs": [],
   "source": [
    "#initializing product list\n",
    "products = []\n",
    "for key in order:\n",
    "    products.append(key)\n",
    "\n",
    "#initializing solutions table\n",
    "solutions_out = df.copy()\n",
    "solutions_out = solutions_out[0:0]\n",
    "\n",
    "#copy original order list\n",
    "order_original = order.copy()"
   ]
  },
  {
   "cell_type": "code",
   "execution_count": null,
   "metadata": {},
   "outputs": [],
   "source": [
    "#gets scores for each row and add to df\n",
    "def getScores():\n",
    "    for i in range(len(df)):\n",
    "        if df.loc[i, 'name'] not in solutions_out.values:\n",
    "            df.loc[i, 'score'] = calcScore(products, i)"
   ]
  },
  {
   "cell_type": "code",
   "execution_count": null,
   "metadata": {},
   "outputs": [],
   "source": [
    "#calculates a score for each warehouse\n",
    "#score is a sum of how much each warehouse is able to supply each product in an order (0,1)\n",
    "def calcScore(products, row):\n",
    "    if df.loc[row, 'name'] in solutions_out.values:\n",
    "        return(0)\n",
    "    score = 0\n",
    "    #looping through columns\n",
    "    #for i in range(0, len(df.loc[row])-2):\n",
    "    for i in range(0, len(products)):\n",
    "        if(df.loc[row, products[i]] >= order[products[i]]):\n",
    "            score += 1\n",
    "        elif((df.loc[row, products[i]] / order[products[i]]) >= 0.5):\n",
    "            score += 0.5\n",
    "    return(score)"
   ]
  },
  {
   "cell_type": "code",
   "execution_count": null,
   "metadata": {},
   "outputs": [],
   "source": [
    "#function to find max score (defers to lowest row value in case of a tie.), adds warehouse to solution set\n",
    "def findMax(df, solutions_out):\n",
    "    #outputs list of rows with maximum score\n",
    "    row = df[df['score']==df['score'].max()]\n",
    "    #remove rows escept for that with the lowest cost (lowest index)\n",
    "    row = row[0:1]\n",
    "    #appending solution set\n",
    "    solutions_out = solutions_out.append(row)\n",
    "    #drop row from df\n",
    "    return(df, solutions_out)\n",
    "    "
   ]
  },
  {
   "cell_type": "code",
   "execution_count": null,
   "metadata": {},
   "outputs": [],
   "source": [
    "#check if order is fulfilled\n",
    "def orderFull(solutions_out):\n",
    "    for key in order_original:\n",
    "        if(solutions_out.loc[:, key].sum() < order_original[key]):\n",
    "            return(False)\n",
    "    return(True)"
   ]
  },
  {
   "cell_type": "code",
   "execution_count": null,
   "metadata": {},
   "outputs": [],
   "source": [
    "#check for a warehouse that, if added to solutions, results in a completed order\n",
    "def finishOrder():\n",
    "    for i in range(0, len(df)):\n",
    "        row = df.loc[i]\n",
    "        test = solutions_out.append(row)\n",
    "        if(orderFull(test)):\n",
    "            return(i)\n",
    "    return(False)\n",
    "            "
   ]
  },
  {
   "cell_type": "code",
   "execution_count": null,
   "metadata": {},
   "outputs": [],
   "source": [
    "#appends solution set with a row\n",
    "def appendSolution(row, solutions_out):\n",
    "    solutions_out = solutions_out.append(df.loc[row])\n",
    "    return(solutions_out)"
   ]
  },
  {
   "cell_type": "code",
   "execution_count": null,
   "metadata": {},
   "outputs": [],
   "source": [
    "#reset scores column\n",
    "def resetScores(df):\n",
    "    df['score'] = 0\n",
    "    return(df)"
   ]
  },
  {
   "cell_type": "code",
   "execution_count": null,
   "metadata": {},
   "outputs": [],
   "source": [
    "#check that there's enough inventory in all warehouses, returns True for enough, False for not enough\n",
    "def checkInventory():\n",
    "    for key in order:\n",
    "        if(order[key] > df.loc[:, key].sum()):\n",
    "            return(False)\n",
    "    return(True)"
   ]
  },
  {
   "cell_type": "markdown",
   "metadata": {},
   "source": [
    "# Main"
   ]
  },
  {
   "cell_type": "code",
   "execution_count": null,
   "metadata": {
    "scrolled": false
   },
   "outputs": [],
   "source": [
    "if(not checkInventory()):\n",
    "    products = []\n",
    "while (products):\n",
    "    getScores()\n",
    "    df, solutions_out = findMax(df, solutions_out)\n",
    "    df = resetScores(df)\n",
    "    if(finishOrder()):\n",
    "        solutions_out = appendSolution(finishOrder(), solutions_out)\n",
    "        products = []\n",
    "    if orderFull(solutions_out):\n",
    "        products = []\n",
    "\n",
    "    "
   ]
  },
  {
   "cell_type": "markdown",
   "metadata": {},
   "source": [
    "### Format Output"
   ]
  },
  {
   "cell_type": "code",
   "execution_count": null,
   "metadata": {},
   "outputs": [],
   "source": [
    "#sort output table in decreasing order of cost\n",
    "solutions_out = solutions_out.sort_index(ascending=False)\n",
    "#reset index to aid formatting\n",
    "solutions_out = solutions_out.reset_index()\n",
    "solutions_out"
   ]
  },
  {
   "cell_type": "code",
   "execution_count": null,
   "metadata": {},
   "outputs": [],
   "source": [
    "#calculte the excess inventory in warehouses to be shipped from\n",
    "def calcDiff(key):\n",
    "    return(solutions_out.loc[:, key].sum() - order_original[key])"
   ]
  },
  {
   "cell_type": "code",
   "execution_count": null,
   "metadata": {},
   "outputs": [],
   "source": [
    "#remove excess inventory from return table\n",
    "def removeExcess(key):\n",
    "    for row in range(0, len(solutions_out.loc[:, key])):\n",
    "        if((solutions_out.loc[row, key] <= calcDiff(key)) and (solutions_out.loc[row, key] > 0)):\n",
    "            solutions_out.loc[row, key] = 0\n",
    "        elif((solutions_out.loc[row, key] > calcDiff(key))):\n",
    "            solutions_out.loc[row, key] -= calcDiff(key)"
   ]
  },
  {
   "cell_type": "code",
   "execution_count": null,
   "metadata": {
    "scrolled": true
   },
   "outputs": [],
   "source": [
    "for key in order_original:\n",
    "    if(order_original[key] < solutions_out.loc[:, key].sum()):\n",
    "        removeExcess(key)"
   ]
  },
  {
   "cell_type": "code",
   "execution_count": null,
   "metadata": {
    "scrolled": false
   },
   "outputs": [],
   "source": [
    "del solutions_out['score']\n",
    "solutions_out"
   ]
  }
 ],
 "metadata": {
  "kernelspec": {
   "display_name": "Python 3",
   "language": "python",
   "name": "python3"
  },
  "language_info": {
   "codemirror_mode": {
    "name": "ipython",
    "version": 3
   },
   "file_extension": ".py",
   "mimetype": "text/x-python",
   "name": "python",
   "nbconvert_exporter": "python",
   "pygments_lexer": "ipython3",
   "version": "3.7.6"
  }
 },
 "nbformat": 4,
 "nbformat_minor": 4
}
